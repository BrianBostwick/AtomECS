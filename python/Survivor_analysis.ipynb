{
 "cells": [
  {
   "cell_type": "code",
   "execution_count": 3,
   "metadata": {},
   "outputs": [],
   "source": [
    "import numpy as np\n",
    "from matplotlib import pyplot as plt\n",
    "from mpl_toolkits.mplot3d import Axes3D\n",
    "import matplotlib.animation\n",
    "import pandas as pd\n"
   ]
  },
  {
   "cell_type": "code",
   "execution_count": 4,
   "metadata": {},
   "outputs": [],
   "source": [
    "plt.rcParams.update({'font.size': 12,\n",
    "                     'axes.titlesize': 25,\n",
    "                     'axes.labelsize': 22,\n",
    "                     'axes.labelpad': 6,\n",
    "                     'lines.linewidth': 1,\n",
    "                     'lines.markersize': 4,\n",
    "                     'xtick.labelsize' : 20,\n",
    "                     'ytick.labelsize' : 20,\n",
    "                     'xtick.top' : True,\n",
    "                     'xtick.direction' : 'in',\n",
    "                     'ytick.right' : True,\n",
    "                     'ytick.direction' : 'in',\n",
    "                     'legend.framealpha' : 1.0,\n",
    "                     'legend.fontsize' : 17,\n",
    "                     'xtick.major.pad': 10,\n",
    "                     'xtick.major.size' : 8,\n",
    "                     'xtick.minor.size' : 5,\n",
    "                     'ytick.major.size' : 8,\n",
    "                     'ytick.minor.size' : 5,\n",
    "                     'legend.labelspacing': 0.3,\n",
    "                     \n",
    "                    }) \n",
    "from matplotlib import rc\n",
    "##rc('font',**{'family':'sans-serif','sans-serif':['Computer Modern Sans serif']})\n",
    "## for Palatino and other serif fonts use:\n",
    "rc('font',**{'family':'serif','serif':['Computer Modern Roman']})\n",
    "rc('text', usetex=True)\n",
    "\n",
    "plt.rcParams.update({'font.size': 22})\n",
    "\n",
    "def get_colors(n):\n",
    "    return plt.cm.plasma(np.linspace(0,0.8,n));\n",
    "\n",
    "sFormatter1 = matplotlib.ticker.ScalarFormatter(useOffset=False, useMathText=True)\n",
    "sFormatter1.set_powerlimits((-3, 3))\n",
    "\n",
    "sFormatter2 = matplotlib.ticker.ScalarFormatter(useOffset=False, useMathText=True)\n",
    "sFormatter2.set_powerlimits((-3, 3))"
   ]
  },
  {
   "cell_type": "code",
   "execution_count": 5,
   "metadata": {},
   "outputs": [],
   "source": [
    "def to_float_array(stringdata):\n",
    "    comma_pos = []\n",
    "    counter = 0\n",
    "    \n",
    "    for i in range(0, len(stringdata)):\n",
    "        if stringdata[i] == ',':\n",
    "            comma_pos.append(i)\n",
    "        counter = counter + 1\n",
    "    return np.array([float(stringdata[1:comma_pos[0]]), float(stringdata[comma_pos[0]+1:comma_pos[1]]), float(stringdata[comma_pos[1]+1:-1])])"
   ]
  },
  {
   "cell_type": "code",
   "execution_count": 6,
   "metadata": {},
   "outputs": [],
   "source": [
    "number_of_bins = 50"
   ]
  },
  {
   "cell_type": "code",
   "execution_count": 12,
   "metadata": {},
   "outputs": [],
   "source": [
    "def produce_histogram(name, number_of_bins):\n",
    "    \n",
    "    max_steps = 100000\n",
    "    #pos_data = pd.read_csv('D:\\\\Nextcloud\\\\Studium\\\\Master_Physik\\\\AION\\MOT_calculation\\\\output\\\\raw_trajectories\\\\pos'+name+ '.txt', sep=\" \", header=None)\n",
    "    vel_data = pd.read_csv('D:\\\\AION_Git\\\\AtomECS\\\\output\\\\vel'+name+ '.txt', sep=\" \", header=None)\n",
    "    total_N = int(vel_data.iloc[0,1])\n",
    "    N=len(vel_data.set_index(0).loc[\"step-\"+str(max_steps)+\",\":,1])-1\n",
    "    list_of_survivors =  np.array(vel_data.iloc[vel_data.shape[0]-N:vel_data.shape[0],0])\n",
    "    list_of_starters = np.array(vel_data.iloc[1:total_N+1,0])\n",
    "    \n",
    "    \n",
    "    #pos_df = pos_data.set_index(0)\n",
    "    vel_df = vel_data.set_index(0)\n",
    "\n",
    "    #pos_survivor_array =  np.array(pos_df.loc[list_of_survivors,1])\n",
    "    vel_survivor_array =  np.array(vel_df.loc[list_of_survivors,1])\n",
    "\n",
    "    #pos_starters_array =  np.array(pos_data.iloc[1:int(pos_data.iloc[0,1])+1,1])\n",
    "    vel_starters_array =  np.array(vel_data.iloc[1:int(vel_data.iloc[0,1])+1,1])\n",
    "    \n",
    "    \n",
    "\n",
    "    vel_data = np.array([to_float_array(i) for i in vel_starters_array]).transpose()\n",
    "    speed_list = [np.sqrt(vel_data[0][i]**2+vel_data[1][i]**2+ vel_data[2][i]**2) for i in np.arange(0,total_N)]\n",
    "\n",
    "    norm_list, bins_list = np.histogram(speed_list, bins=number_of_bins)\n",
    "\n",
    "    vel_data = np.array([to_float_array(vel_survivor_array[int(max_steps/100)*i]) for i in np.arange(0,N)]).transpose()\n",
    "    speed_list = [np.sqrt(vel_data[0][i]**2+vel_data[1][i]**2+ vel_data[2][i]**2) for i in np.arange(0,N)]\n",
    "\n",
    "    density_values , _ = np.histogram(speed_list, bins=bins_list)\n",
    "    \n",
    "    return density_values / norm_list, bins_list"
   ]
  },
  {
   "cell_type": "code",
   "execution_count": null,
   "metadata": {},
   "outputs": [],
   "source": [
    "\n"
   ]
  },
  {
   "cell_type": "code",
   "execution_count": 13,
   "metadata": {},
   "outputs": [
    {
     "name": "stderr",
     "output_type": "stream",
     "text": [
      "findfont: Font family ['serif'] not found. Falling back to DejaVu Sans.\n"
     ]
    },
    {
     "data": {
      "image/png": "[encoded data removed]",
      "text/plain": [
       "<Figure size 720x504 with 1 Axes>"
      ]
     },
     "metadata": {
      "needs_background": "light"
     },
     "output_type": "display_data"
    }
   ],
   "source": [
    "plt.figure(figsize=(10,7))\n",
    "\n",
    "\n",
    "power_vals = [100, 200,500,1000]\n",
    "det_vals = [\"30MHz\", 200, \"150MHz\"]\n",
    "labels = [ 30, 90, 150]\n",
    "colors = get_colors(len(power_vals))\n",
    "for i in range(1):\n",
    "    density_values, bins_list = produce_histogram(\"\", number_of_bins)\n",
    "    plt.plot(bins_list[0:-1]+np.ones(number_of_bins)*(bins_list[1]-bins_list[0])/2, density_values , label=\"det = 90 MHz, power = \"+str(power_vals[i])+\" mW, waist = 33mm\", color = colors[i], lw=2)\n",
    "\n",
    "\n",
    "plt.xlabel(\"Initial velocity / m/s\")\n",
    "plt.ylabel(\"Rate of survival\")\n",
    "\n",
    "\n",
    "#plt.grid(True)\n",
    "\n",
    "title=\"Capture atoms blue Sr MOT\"\n",
    "plt.legend(bbox_to_anchor=(1, 1),loc=2)\n",
    "\n",
    "plt.savefig('D:\\\\Nextcloud\\\\Studium\\\\Master_Physik\\\\AION\\MOT_calculation\\\\output\\\\power_capture.pdf', bbox_inches='tight')"
   ]
  },
  {
   "cell_type": "code",
   "execution_count": null,
   "metadata": {},
   "outputs": [],
   "source": []
  },
  {
   "cell_type": "code",
   "execution_count": null,
   "metadata": {},
   "outputs": [],
   "source": []
  }
 ],
 "metadata": {
  "kernelspec": {
   "display_name": "Python 3",
   "language": "python",
   "name": "python3"
  },
  "language_info": {
   "codemirror_mode": {
    "name": "ipython",
    "version": 3
   },
   "file_extension": ".py",
   "mimetype": "text/x-python",
   "name": "python",
   "nbconvert_exporter": "python",
   "pygments_lexer": "ipython3",
   "version": "3.8.5"
  }
 },
 "nbformat": 4,
 "nbformat_minor": 4
}
